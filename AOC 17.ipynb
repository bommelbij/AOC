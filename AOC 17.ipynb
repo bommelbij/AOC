{
 "cells": [
  {
   "cell_type": "code",
   "execution_count": 1,
   "id": "c90e03fb",
   "metadata": {},
   "outputs": [
    {
     "data": {
      "text/plain": [
       "['target area: x=34..67, y=-215..-186']"
      ]
     },
     "execution_count": 1,
     "metadata": {},
     "output_type": "execute_result"
    }
   ],
   "source": [
    "f = open(\"day17-21.txt\",\"r\")\n",
    "txt = f.readlines()\n",
    "txt"
   ]
  },
  {
   "cell_type": "code",
   "execution_count": 2,
   "id": "420f2df3",
   "metadata": {},
   "outputs": [],
   "source": [
    "txt = str(txt[0])\n",
    "begin,end = txt.split(\",\")\n",
    "_,begin = begin.split(\":\")\n",
    "val,xrang  =begin.split(\"=\")\n",
    "val2,yrang = end.split(\"=\")\n",
    "xmin,xmax = xrang.split(\"..\")\n",
    "ymin,ymax = yrang.split(\"..\")\n",
    "ymax = ymax\n",
    "ymax = int(ymax)\n",
    "ymin = int(ymin)\n",
    "xmax = int(xmax)\n",
    "xmin = int(xmin)"
   ]
  },
  {
   "cell_type": "code",
   "execution_count": 3,
   "id": "ac461844",
   "metadata": {},
   "outputs": [
    {
     "data": {
      "text/plain": [
       "0"
      ]
     },
     "execution_count": 3,
     "metadata": {},
     "output_type": "execute_result"
    }
   ],
   "source": [
    "def shoot(xvelo,yvelo):    \n",
    "    high = 0\n",
    "    x=0\n",
    "    y=0\n",
    "    while x < xmax and y > ymin:\n",
    "        x += xvelo\n",
    "        y += yvelo\n",
    "        if x in range(xmin,xmax+1) and y in range(ymin,ymax+1):\n",
    "            return high\n",
    "        if y > high:\n",
    "            high = y\n",
    "        if xvelo != 0:\n",
    "            xvelo -= 1\n",
    "        yvelo -= 1\n",
    "    return 0\n",
    "shoot(8,-2)"
   ]
  },
  {
   "cell_type": "code",
   "execution_count": 4,
   "id": "298ec999",
   "metadata": {},
   "outputs": [
    {
     "data": {
      "text/plain": [
       "12"
      ]
     },
     "execution_count": 4,
     "metadata": {},
     "output_type": "execute_result"
    }
   ],
   "source": [
    "temp = 0\n",
    "count =0\n",
    "while temp < xmax:\n",
    "    count += 1\n",
    "    temp += count\n",
    "count"
   ]
  },
  {
   "cell_type": "code",
   "execution_count": 5,
   "id": "4cfbebd5",
   "metadata": {},
   "outputs": [
    {
     "name": "stdout",
     "output_type": "stream",
     "text": [
      "-29\n",
      "29\n"
     ]
    }
   ],
   "source": [
    "print(ymin-ymax)\n",
    "print(ymax-ymin)"
   ]
  },
  {
   "cell_type": "code",
   "execution_count": 6,
   "id": "c5a86ac7",
   "metadata": {},
   "outputs": [
    {
     "data": {
      "text/plain": [
       "23005"
      ]
     },
     "execution_count": 6,
     "metadata": {},
     "output_type": "execute_result"
    }
   ],
   "source": [
    "for y in range(0,abs(ymin)):\n",
    "    res = 0\n",
    "    temp = shoot(count-1,y)\n",
    "    if temp > res:\n",
    "        res = temp\n",
    "res\n",
    "    "
   ]
  },
  {
   "cell_type": "code",
   "execution_count": 7,
   "id": "15eb86df",
   "metadata": {},
   "outputs": [
    {
     "data": {
      "text/plain": [
       "8"
      ]
     },
     "execution_count": 7,
     "metadata": {},
     "output_type": "execute_result"
    }
   ],
   "source": [
    "temp = 0\n",
    "count =0\n",
    "while temp < xmin:\n",
    "    count += 1\n",
    "    temp += count\n",
    "count"
   ]
  },
  {
   "cell_type": "code",
   "execution_count": 8,
   "id": "0dde5436",
   "metadata": {},
   "outputs": [
    {
     "data": {
      "text/plain": [
       "1"
      ]
     },
     "execution_count": 8,
     "metadata": {},
     "output_type": "execute_result"
    }
   ],
   "source": [
    "def shoot(xvelo,yvelo):    \n",
    "    high = 0\n",
    "    x=0\n",
    "    y=0\n",
    "    while x < xmax and y > ymin:\n",
    "        x += xvelo\n",
    "        y += yvelo\n",
    "        if x in range(xmin,xmax+1) and y in range(ymin,ymax+1):\n",
    "            return 1\n",
    "        if xvelo != 0 and xvelo > 0:\n",
    "            xvelo -= 1\n",
    "        elif xvelo != 0:\n",
    "            xvelo += 1\n",
    "        yvelo -= 1\n",
    "    return 0\n",
    "shoot(8,-2)"
   ]
  },
  {
   "cell_type": "code",
   "execution_count": 9,
   "id": "360f99aa",
   "metadata": {},
   "outputs": [
    {
     "data": {
      "text/plain": [
       "2040"
      ]
     },
     "execution_count": 9,
     "metadata": {},
     "output_type": "execute_result"
    }
   ],
   "source": [
    "res = 0\n",
    "for x in range(count,xmax+1):\n",
    "    for y in range(ymin,abs(ymin)):\n",
    "        if shoot(x,y) == 1:\n",
    "            res += 1\n",
    "res"
   ]
  },
  {
   "cell_type": "code",
   "execution_count": 10,
   "id": "637e8e39",
   "metadata": {},
   "outputs": [
    {
     "data": {
      "text/plain": [
       "1"
      ]
     },
     "execution_count": 10,
     "metadata": {},
     "output_type": "execute_result"
    }
   ],
   "source": [
    "shoot(8,-2)"
   ]
  }
 ],
 "metadata": {
  "kernelspec": {
   "display_name": "Python 3 (ipykernel)",
   "language": "python",
   "name": "python3"
  },
  "language_info": {
   "codemirror_mode": {
    "name": "ipython",
    "version": 3
   },
   "file_extension": ".py",
   "mimetype": "text/x-python",
   "name": "python",
   "nbconvert_exporter": "python",
   "pygments_lexer": "ipython3",
   "version": "3.9.7"
  }
 },
 "nbformat": 4,
 "nbformat_minor": 5
}
