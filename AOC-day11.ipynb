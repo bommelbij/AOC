{
 "cells": [
  {
   "cell_type": "code",
   "execution_count": 1,
   "metadata": {},
   "outputs": [
    {
     "data": {
      "text/plain": [
       "['1172728874\\n',\n",
       " '6751454281\\n',\n",
       " '2612343533\\n',\n",
       " '1884877511\\n',\n",
       " '7574346247\\n',\n",
       " '2117413745\\n',\n",
       " '7766736517\\n',\n",
       " '4331783444\\n',\n",
       " '4841215828\\n',\n",
       " '6857766273\\n']"
      ]
     },
     "execution_count": 1,
     "metadata": {},
     "output_type": "execute_result"
    }
   ],
   "source": [
    "f = open(\"day11-21.txt\", \"r\")\n",
    "txt = f.readlines()\n",
    "txt"
   ]
  },
  {
   "cell_type": "code",
   "execution_count": 2,
   "metadata": {},
   "outputs": [
    {
     "data": {
      "text/plain": [
       "[[1, 1, 7, 2, 7, 2, 8, 8, 7, 4],\n",
       " [6, 7, 5, 1, 4, 5, 4, 2, 8, 1],\n",
       " [2, 6, 1, 2, 3, 4, 3, 5, 3, 3],\n",
       " [1, 8, 8, 4, 8, 7, 7, 5, 1, 1],\n",
       " [7, 5, 7, 4, 3, 4, 6, 2, 4, 7],\n",
       " [2, 1, 1, 7, 4, 1, 3, 7, 4, 5],\n",
       " [7, 7, 6, 6, 7, 3, 6, 5, 1, 7],\n",
       " [4, 3, 3, 1, 7, 8, 3, 4, 4, 4],\n",
       " [4, 8, 4, 1, 2, 1, 5, 8, 2, 8],\n",
       " [6, 8, 5, 7, 7, 6, 6, 2, 7, 3]]"
      ]
     },
     "execution_count": 2,
     "metadata": {},
     "output_type": "execute_result"
    }
   ],
   "source": [
    "table = []\n",
    "for i in txt:\n",
    "    row = []\n",
    "    for j in i[:-1]:\n",
    "        row.append(int(j))\n",
    "    table.append(row)\n",
    "table"
   ]
  },
  {
   "cell_type": "code",
   "execution_count": 3,
   "metadata": {},
   "outputs": [],
   "source": [
    "def checkflashes (table,x,y):\n",
    "    up,low,left,right = False,False,False,False\n",
    "    res  = table[:]\n",
    "    res[x][y] = 0\n",
    "    if x != 0:\n",
    "        up = True\n",
    "        if table[x-1][y] != 0 and table[x-1][y] != 10:\n",
    "            res[x-1][y]  = table[x-1][y] +1          \n",
    "    if x != len(table)-1:\n",
    "        low = True\n",
    "        if table[x+1][y] != 0 and table[x+1][y] != 10:\n",
    "            res[x+1][y]  = table[x+1][y] +1\n",
    "    if y != 0:\n",
    "        left = True\n",
    "        if table[x][y-1] != 0 and table[x][y-1] != 10:\n",
    "            res[x][y-1]  = table[x][y-1] +1\n",
    "    if y != len(table[x])-1:\n",
    "        right = True\n",
    "        if table[x][y+1] != 0 and table[x][y+1] != 10 :\n",
    "            res[x][y+1]  = table[x][y+1] +1\n",
    "    if up and left:\n",
    "         if table[x-1][y-1] != 0 and table[x-1][y-1] != 10:\n",
    "            res[x-1][y-1]  = table[x-1][y-1] +1\n",
    "    if up and right:\n",
    "         if table[x-1][y+1] != 0 and table[x-1][y+1] != 10:\n",
    "            res[x-1][y+1]  = table[x-1][y+1] +1\n",
    "    if low and left:\n",
    "         if table[x+1][y-1] != 0 and table[x+1][y-1] != 10:\n",
    "            res[x+1][y-1]  = table[x+1][y-1] +1\n",
    "    if low and right:\n",
    "        if table[x+1][y+1] != 0 and table[x+1][y+1] != 10:\n",
    "            res[x+1][y+1]  = table[x+1][y+1] +1        \n",
    "    \n",
    "    return res"
   ]
  },
  {
   "cell_type": "code",
   "execution_count": 4,
   "metadata": {},
   "outputs": [
    {
     "data": {
      "text/plain": [
       "229"
      ]
     },
     "execution_count": 4,
     "metadata": {},
     "output_type": "execute_result"
    }
   ],
   "source": [
    "flashes = 0\n",
    "day = 0\n",
    "while sum([x.count(0) for x in table]) != 100:\n",
    "    day += 1\n",
    "    for count,i in enumerate(table[:]):\n",
    "        new = []\n",
    "        for j in i:\n",
    "            new.append(j+1)\n",
    "        table[count] = new\n",
    "\n",
    "    while sum([x.count(10) for x in table]) > 0:\n",
    "        for x,i in enumerate(table[:]):\n",
    "              for y,j in enumerate(i):\n",
    "                     if j == 10:\n",
    "                        table = checkflashes(table,x,y)\n",
    "                        flashes += 1\n",
    "\n",
    "day"
   ]
  },
  {
   "cell_type": "code",
   "execution_count": 5,
   "metadata": {},
   "outputs": [
    {
     "data": {
      "text/plain": [
       "[[0, 0, 0, 0, 0, 0, 0, 0, 0, 0],\n",
       " [0, 0, 0, 0, 0, 0, 0, 0, 0, 0],\n",
       " [0, 0, 0, 0, 0, 0, 0, 0, 0, 0],\n",
       " [0, 0, 0, 0, 0, 0, 0, 0, 0, 0],\n",
       " [0, 0, 0, 0, 0, 0, 0, 0, 0, 0],\n",
       " [0, 0, 0, 0, 0, 0, 0, 0, 0, 0],\n",
       " [0, 0, 0, 0, 0, 0, 0, 0, 0, 0],\n",
       " [0, 0, 0, 0, 0, 0, 0, 0, 0, 0],\n",
       " [0, 0, 0, 0, 0, 0, 0, 0, 0, 0],\n",
       " [0, 0, 0, 0, 0, 0, 0, 0, 0, 0]]"
      ]
     },
     "execution_count": 5,
     "metadata": {},
     "output_type": "execute_result"
    }
   ],
   "source": [
    "for x,i in enumerate(table[:]):\n",
    "         for y,j in enumerate(i):\n",
    "                 if j == 10:\n",
    "                    table = checkflashes(table,x,y)\n",
    "                    flashes += 1\n",
    "table \n"
   ]
  },
  {
   "cell_type": "code",
   "execution_count": 6,
   "metadata": {},
   "outputs": [
    {
     "data": {
      "text/plain": [
       "3550"
      ]
     },
     "execution_count": 6,
     "metadata": {},
     "output_type": "execute_result"
    }
   ],
   "source": [
    "flashes"
   ]
  }
 ],
 "metadata": {
  "kernelspec": {
   "display_name": "Python 3",
   "language": "python",
   "name": "python3"
  },
  "language_info": {
   "codemirror_mode": {
    "name": "ipython",
    "version": 3
   },
   "file_extension": ".py",
   "mimetype": "text/x-python",
   "name": "python",
   "nbconvert_exporter": "python",
   "pygments_lexer": "ipython3",
   "version": "3.8.3"
  }
 },
 "nbformat": 4,
 "nbformat_minor": 4
}
