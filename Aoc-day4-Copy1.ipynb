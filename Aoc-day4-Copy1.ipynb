{
 "cells": [
  {
   "cell_type": "code",
   "execution_count": 1,
   "metadata": {},
   "outputs": [],
   "source": [
    "f = open(\"test4.txt\", \"r\")\n",
    "txt = f.readlines()\n",
    "txt"
   ]
  },
  {
   "cell_type": "code",
   "execution_count": 2,
   "metadata": {},
   "outputs": [],
   "source": [
    "sequence = txt[0]\n",
    "cards = txt[2:]"
   ]
  },
  {
   "cell_type": "code",
   "execution_count": 3,
   "metadata": {},
   "outputs": [],
   "source": [
    "bingo = []\n",
    "card = []\n",
    "for i in cards:\n",
    "    if i != \"\\n\":\n",
    "        card.append(i[:-1].split())\n",
    "    else:\n",
    "        bingo.append(card)\n",
    "        card = []"
   ]
  },
  {
   "cell_type": "code",
   "execution_count": 4,
   "metadata": {},
   "outputs": [
    {
     "data": {
      "text/plain": [
       "[[['22', '13', '17', '11', '0'],\n",
       "  ['8', '2', '23', '4', '24'],\n",
       "  ['21', '9', '14', '16', '7'],\n",
       "  ['6', '10', '3', '18', '5'],\n",
       "  ['1', '12', '20', '15', '19']],\n",
       " [['3', '15', '0', '2', '22'],\n",
       "  ['9', '18', '13', '17', '5'],\n",
       "  ['19', '8', '7', '25', '23'],\n",
       "  ['20', '11', '10', '24', '4'],\n",
       "  ['14', '21', '16', '12', '6']],\n",
       " [['14', '21', '17', '24', '4'],\n",
       "  ['10', '16', '15', '9', '19'],\n",
       "  ['18', '8', '23', '26', '20'],\n",
       "  ['22', '11', '13', '6', '5'],\n",
       "  ['2', '0', '12', '3', '7']]]"
      ]
     },
     "execution_count": 4,
     "metadata": {},
     "output_type": "execute_result"
    }
   ],
   "source": [
    "bingo"
   ]
  },
  {
   "cell_type": "code",
   "execution_count": 5,
   "metadata": {},
   "outputs": [],
   "source": [
    "def checkcard(card):\n",
    "    for x in range(len(card)):\n",
    "        temp = [row[x] for row in card]\n",
    "        if all(isinstance(y, int) for y in temp):\n",
    "            return True\n",
    "        elif all(isinstance(y, int) for y in card[x]):\n",
    "            return True\n",
    "    return False"
   ]
  },
  {
   "cell_type": "code",
   "execution_count": 6,
   "metadata": {},
   "outputs": [],
   "source": [
    "sequence = sequence.split(\",\")"
   ]
  },
  {
   "cell_type": "code",
   "execution_count": 7,
   "metadata": {},
   "outputs": [],
   "source": [
    "def marknumber(card,number):\n",
    "    for j in range(len(card)):\n",
    "        for k in range(len(card[j])):\n",
    "            if card[j][k] == number:\n",
    "                card[j][k] = int(number)\n",
    "    return card"
   ]
  },
  {
   "cell_type": "code",
   "execution_count": null,
   "metadata": {},
   "outputs": [],
   "source": []
  },
  {
   "cell_type": "code",
   "execution_count": 8,
   "metadata": {},
   "outputs": [
    {
     "name": "stdout",
     "output_type": "stream",
     "text": [
      "24\n",
      "16\n",
      "12\n"
     ]
    }
   ],
   "source": [
    "\n",
    "def callbingo():\n",
    "    for i in sequence:\n",
    "        count = 0\n",
    "        for card in bingo:\n",
    "            card = marknumber(card,i)\n",
    "            if checkcard(card):\n",
    "                print(i)\n",
    "                if len(bingo) >1:\n",
    "                    bingo.remove(card)\n",
    "                else:\n",
    "                    return card,int(i)\n",
    "            else:\n",
    "                bingo[count] = card\n",
    "                count += 1\n",
    "\n",
    "res,call = callbingo()\n",
    "   "
   ]
  },
  {
   "cell_type": "code",
   "execution_count": 9,
   "metadata": {},
   "outputs": [
    {
     "data": {
      "text/plain": [
       "1272"
      ]
     },
     "execution_count": 9,
     "metadata": {},
     "output_type": "execute_result"
    }
   ],
   "source": [
    "marked = 0\n",
    "unmarked = 0 \n",
    "for j in range(len(res)):\n",
    "        for k in range(len(res[j])):\n",
    "            if isinstance(res[j][k], int):\n",
    "                marked += res[j][k]\n",
    "            else:\n",
    "                unmarked += int(res[j][k])\n",
    "call*unmarked"
   ]
  },
  {
   "cell_type": "code",
   "execution_count": 10,
   "metadata": {},
   "outputs": [
    {
     "data": {
      "text/plain": [
       "True"
      ]
     },
     "execution_count": 10,
     "metadata": {},
     "output_type": "execute_result"
    }
   ],
   "source": [
    "mat = [[\"2\",\"3\"],[\"5\",\"7\"]]\n",
    "mat = marknumber(mat,\"7\")\n",
    "mat = marknumber(mat,\"3\")\n",
    "checkcard(mat)\n"
   ]
  }
 ],
 "metadata": {
  "kernelspec": {
   "display_name": "Python 3",
   "language": "python",
   "name": "python3"
  },
  "language_info": {
   "codemirror_mode": {
    "name": "ipython",
    "version": 3
   },
   "file_extension": ".py",
   "mimetype": "text/x-python",
   "name": "python",
   "nbconvert_exporter": "python",
   "pygments_lexer": "ipython3",
   "version": "3.8.3"
  }
 },
 "nbformat": 4,
 "nbformat_minor": 4
}
