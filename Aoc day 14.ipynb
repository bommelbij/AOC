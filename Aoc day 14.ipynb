{
 "cells": [
  {
   "cell_type": "code",
   "execution_count": 1,
   "metadata": {},
   "outputs": [
    {
     "data": {
      "text/plain": [
       "['SVCHKVFKCSHVFNBKKPOC\\n',\n",
       " '\\n',\n",
       " 'NC -> H\\n',\n",
       " 'PK -> V\\n',\n",
       " 'SO -> C\\n',\n",
       " 'PH -> F\\n',\n",
       " 'FP -> N\\n',\n",
       " 'PN -> B\\n',\n",
       " 'NP -> V\\n',\n",
       " 'NK -> S\\n',\n",
       " 'FV -> P\\n',\n",
       " 'SB -> S\\n',\n",
       " 'VN -> F\\n',\n",
       " 'SC -> H\\n',\n",
       " 'OB -> F\\n',\n",
       " 'ON -> O\\n',\n",
       " 'HN -> V\\n',\n",
       " 'HC -> F\\n',\n",
       " 'SN -> K\\n',\n",
       " 'CB -> H\\n',\n",
       " 'OP -> K\\n',\n",
       " 'HP -> H\\n',\n",
       " 'KS -> S\\n',\n",
       " 'BC -> S\\n',\n",
       " 'VB -> V\\n',\n",
       " 'FC -> B\\n',\n",
       " 'BH -> C\\n',\n",
       " 'HH -> O\\n',\n",
       " 'KH -> S\\n',\n",
       " 'VF -> F\\n',\n",
       " 'PF -> P\\n',\n",
       " 'VV -> F\\n',\n",
       " 'PP -> V\\n',\n",
       " 'BO -> H\\n',\n",
       " 'BF -> B\\n',\n",
       " 'PS -> K\\n',\n",
       " 'FO -> O\\n',\n",
       " 'KF -> O\\n',\n",
       " 'FN -> H\\n',\n",
       " 'CK -> B\\n',\n",
       " 'VP -> V\\n',\n",
       " 'HK -> F\\n',\n",
       " 'OV -> P\\n',\n",
       " 'CS -> V\\n',\n",
       " 'FF -> P\\n',\n",
       " 'OH -> N\\n',\n",
       " 'VS -> H\\n',\n",
       " 'VO -> O\\n',\n",
       " 'CP -> O\\n',\n",
       " 'KC -> V\\n',\n",
       " 'KV -> P\\n',\n",
       " 'BK -> B\\n',\n",
       " 'VK -> S\\n',\n",
       " 'NF -> V\\n',\n",
       " 'OO -> V\\n',\n",
       " 'FH -> H\\n',\n",
       " 'CN -> O\\n',\n",
       " 'SP -> B\\n',\n",
       " 'KN -> V\\n',\n",
       " 'OF -> H\\n',\n",
       " 'NV -> H\\n',\n",
       " 'FK -> B\\n',\n",
       " 'PV -> N\\n',\n",
       " 'NB -> B\\n',\n",
       " 'KK -> P\\n',\n",
       " 'VH -> P\\n',\n",
       " 'CC -> B\\n',\n",
       " 'HV -> V\\n',\n",
       " 'OC -> H\\n',\n",
       " 'PO -> V\\n',\n",
       " 'NO -> O\\n',\n",
       " 'BP -> C\\n',\n",
       " 'NH -> H\\n',\n",
       " 'BN -> O\\n',\n",
       " 'BV -> S\\n',\n",
       " 'CV -> B\\n',\n",
       " 'HS -> O\\n',\n",
       " 'NN -> S\\n',\n",
       " 'NS -> P\\n',\n",
       " 'KB -> F\\n',\n",
       " 'CO -> H\\n',\n",
       " 'HO -> P\\n',\n",
       " 'PB -> B\\n',\n",
       " 'BS -> P\\n',\n",
       " 'SH -> H\\n',\n",
       " 'FS -> V\\n',\n",
       " 'SF -> O\\n',\n",
       " 'OK -> F\\n',\n",
       " 'KP -> S\\n',\n",
       " 'BB -> C\\n',\n",
       " 'PC -> B\\n',\n",
       " 'OS -> C\\n',\n",
       " 'SV -> N\\n',\n",
       " 'SK -> K\\n',\n",
       " 'KO -> C\\n',\n",
       " 'SS -> V\\n',\n",
       " 'CF -> C\\n',\n",
       " 'HB -> K\\n',\n",
       " 'VC -> B\\n',\n",
       " 'CH -> P\\n',\n",
       " 'HF -> K\\n',\n",
       " 'FB -> V\\n']"
      ]
     },
     "execution_count": 1,
     "metadata": {},
     "output_type": "execute_result"
    }
   ],
   "source": [
    "f = open(\"day14-21.txt\", \"r\")\n",
    "txt = f.readlines()\n",
    "txt"
   ]
  },
  {
   "cell_type": "code",
   "execution_count": 2,
   "metadata": {},
   "outputs": [
    {
     "data": {
      "text/plain": [
       "'SVCHKVFKCSHVFNBKKPOC'"
      ]
     },
     "execution_count": 2,
     "metadata": {},
     "output_type": "execute_result"
    }
   ],
   "source": [
    "string = \"\"\n",
    "diction = {}\n",
    "unique = []\n",
    "for i in txt:\n",
    "    if i.count(\"->\") > 0:\n",
    "        key,val = i.split(\" -> \")\n",
    "        if key not in unique:\n",
    "            unique.append(val[:-1])\n",
    "        diction[key] = val[:-1]\n",
    "    else:\n",
    "        string += i[:-1]\n",
    "string"
   ]
  },
  {
   "cell_type": "code",
   "execution_count": 3,
   "metadata": {},
   "outputs": [
    {
     "name": "stdout",
     "output_type": "stream",
     "text": [
      "0\n",
      "1\n",
      "2\n",
      "3\n",
      "4\n",
      "5\n",
      "6\n",
      "7\n",
      "8\n",
      "9\n"
     ]
    }
   ],
   "source": [
    "for i in range(10):\n",
    "    print(i)\n",
    "    result = \"\"\n",
    "    while len(string) > 1:\n",
    "        key = string[:2]\n",
    "        result += string[0] + diction[key]\n",
    "        string = string[1:]\n",
    "    result += string\n",
    "    string = result\n"
   ]
  },
  {
   "cell_type": "code",
   "execution_count": null,
   "metadata": {},
   "outputs": [],
   "source": []
  },
  {
   "cell_type": "code",
   "execution_count": 4,
   "metadata": {},
   "outputs": [
    {
     "data": {
      "text/plain": [
       "'SVCHKVFKCSHVFNBKKPOC'"
      ]
     },
     "execution_count": 4,
     "metadata": {},
     "output_type": "execute_result"
    }
   ],
   "source": [
    "string = \"\"\n",
    "diction = {}\n",
    "unique = []\n",
    "chars = []\n",
    "for i in txt:\n",
    "    if i.count(\"->\") > 0:\n",
    "        key,val = i.split(\" -> \")\n",
    "        unique.append(key)\n",
    "        if val[:-1] not in chars:\n",
    "            chars.append(val[:-1])\n",
    "        diction[key] = val[:-1]\n",
    "    else:\n",
    "        string += i[:-1]\n",
    "string"
   ]
  },
  {
   "cell_type": "code",
   "execution_count": 5,
   "metadata": {},
   "outputs": [
    {
     "data": {
      "text/plain": [
       "{'NC': 0,\n",
       " 'PK': 0,\n",
       " 'SO': 0,\n",
       " 'PH': 0,\n",
       " 'FP': 0,\n",
       " 'PN': 0,\n",
       " 'NP': 0,\n",
       " 'NK': 0,\n",
       " 'FV': 0,\n",
       " 'SB': 0,\n",
       " 'VN': 0,\n",
       " 'SC': 0,\n",
       " 'OB': 0,\n",
       " 'ON': 0,\n",
       " 'HN': 0,\n",
       " 'HC': 0,\n",
       " 'SN': 0,\n",
       " 'CB': 0,\n",
       " 'OP': 0,\n",
       " 'HP': 0,\n",
       " 'KS': 0,\n",
       " 'BC': 0,\n",
       " 'VB': 0,\n",
       " 'FC': 0,\n",
       " 'BH': 0,\n",
       " 'HH': 0,\n",
       " 'KH': 0,\n",
       " 'VF': 2,\n",
       " 'PF': 0,\n",
       " 'VV': 0,\n",
       " 'PP': 0,\n",
       " 'BO': 0,\n",
       " 'BF': 0,\n",
       " 'PS': 0,\n",
       " 'FO': 0,\n",
       " 'KF': 0,\n",
       " 'FN': 1,\n",
       " 'CK': 0,\n",
       " 'VP': 0,\n",
       " 'HK': 1,\n",
       " 'OV': 0,\n",
       " 'CS': 1,\n",
       " 'FF': 0,\n",
       " 'OH': 0,\n",
       " 'VS': 0,\n",
       " 'VO': 0,\n",
       " 'CP': 0,\n",
       " 'KC': 1,\n",
       " 'KV': 1,\n",
       " 'BK': 1,\n",
       " 'VK': 0,\n",
       " 'NF': 0,\n",
       " 'OO': 0,\n",
       " 'FH': 0,\n",
       " 'CN': 0,\n",
       " 'SP': 0,\n",
       " 'KN': 0,\n",
       " 'OF': 0,\n",
       " 'NV': 0,\n",
       " 'FK': 1,\n",
       " 'PV': 0,\n",
       " 'NB': 1,\n",
       " 'KK': 1,\n",
       " 'VH': 0,\n",
       " 'CC': 0,\n",
       " 'HV': 1,\n",
       " 'OC': 1,\n",
       " 'PO': 1,\n",
       " 'NO': 0,\n",
       " 'BP': 0,\n",
       " 'NH': 0,\n",
       " 'BN': 0,\n",
       " 'BV': 0,\n",
       " 'CV': 0,\n",
       " 'HS': 0,\n",
       " 'NN': 0,\n",
       " 'NS': 0,\n",
       " 'KB': 0,\n",
       " 'CO': 0,\n",
       " 'HO': 0,\n",
       " 'PB': 0,\n",
       " 'BS': 0,\n",
       " 'SH': 1,\n",
       " 'FS': 0,\n",
       " 'SF': 0,\n",
       " 'OK': 0,\n",
       " 'KP': 1,\n",
       " 'BB': 0,\n",
       " 'PC': 0,\n",
       " 'OS': 0,\n",
       " 'SV': 1,\n",
       " 'SK': 0,\n",
       " 'KO': 0,\n",
       " 'SS': 0,\n",
       " 'CF': 0,\n",
       " 'HB': 0,\n",
       " 'VC': 1,\n",
       " 'CH': 1,\n",
       " 'HF': 0,\n",
       " 'FB': 0}"
      ]
     },
     "execution_count": 5,
     "metadata": {},
     "output_type": "execute_result"
    }
   ],
   "source": [
    "result = {}\n",
    "for key in unique:\n",
    "    result[key] = string.count(key)\n",
    "result    "
   ]
  },
  {
   "cell_type": "code",
   "execution_count": 6,
   "metadata": {},
   "outputs": [
    {
     "data": {
      "text/plain": [
       "{'NC': 0,\n",
       " 'PK': 47556395116,\n",
       " 'SO': 0,\n",
       " 'PH': 95704330069,\n",
       " 'FP': 335384243584,\n",
       " 'PN': 389496159118,\n",
       " 'NP': 167760736840,\n",
       " 'NK': 0,\n",
       " 'FV': 346380079408,\n",
       " 'SB': 103604338047,\n",
       " 'VN': 61422911453,\n",
       " 'SC': 118222500722,\n",
       " 'OB': 0,\n",
       " 'ON': 834224759310,\n",
       " 'HN': 99287142582,\n",
       " 'HC': 66017130068,\n",
       " 'SN': 47114349301,\n",
       " 'CB': 137243132527,\n",
       " 'OP': 356030635418,\n",
       " 'HP': 683274674705,\n",
       " 'KS': 267198603149,\n",
       " 'BC': 236493913731,\n",
       " 'VB': 118281288436,\n",
       " 'FC': 32990761132,\n",
       " 'BH': 48708813906,\n",
       " 'HH': 1127866853718,\n",
       " 'KH': 0,\n",
       " 'VF': 648063812117,\n",
       " 'PF': 420114604943,\n",
       " 'VV': 586212092997,\n",
       " 'PP': 210133297424,\n",
       " 'BO': 97400064087,\n",
       " 'BF': 0,\n",
       " 'PS': 59953802221,\n",
       " 'FO': 0,\n",
       " 'KF': 96181765907,\n",
       " 'FN': 198480405534,\n",
       " 'CK': 0,\n",
       " 'VP': 433807901861,\n",
       " 'HK': 113336481703,\n",
       " 'OV': 588242923918,\n",
       " 'CS': 13868659074,\n",
       " 'FF': 324163211225,\n",
       " 'OH': 639390464504,\n",
       " 'VS': 111366317643,\n",
       " 'VO': 1518281887938,\n",
       " 'CP': 123795180416,\n",
       " 'KC': 24012988992,\n",
       " 'KV': 23745627876,\n",
       " 'BK': 145544611745,\n",
       " 'VK': 23748068327,\n",
       " 'NF': 0,\n",
       " 'OO': 1176357684020,\n",
       " 'FH': 294257193138,\n",
       " 'CN': 0,\n",
       " 'SP': 103703748518,\n",
       " 'KN': 23532003682,\n",
       " 'OF': 137075047378,\n",
       " 'NV': 520532760482,\n",
       " 'FK': 145651455222,\n",
       " 'PV': 778917017031,\n",
       " 'NB': 1,\n",
       " 'KK': 35259281562,\n",
       " 'VH': 55626605527,\n",
       " 'CC': 0,\n",
       " 'HV': 620089504238,\n",
       " 'OC': 13868659074,\n",
       " 'PO': 341654582917,\n",
       " 'NO': 0,\n",
       " 'BP': 111786749358,\n",
       " 'NH': 1160035596690,\n",
       " 'BN': 194771363033,\n",
       " 'BV': 3453393142,\n",
       " 'CV': 6921799260,\n",
       " 'HS': 55626605527,\n",
       " 'NN': 0,\n",
       " 'NS': 0,\n",
       " 'KB': 34303434602,\n",
       " 'CO': 85883639445,\n",
       " 'HO': 683349853639,\n",
       " 'PB': 389615496407,\n",
       " 'BS': 119944726857,\n",
       " 'SH': 118134675854,\n",
       " 'FS': 0,\n",
       " 'SF': 0,\n",
       " 'OK': 178020920185,\n",
       " 'KP': 207468517122,\n",
       " 'BB': 267581313788,\n",
       " 'PC': 0,\n",
       " 'OS': 27778927732,\n",
       " 'SV': 94310711237,\n",
       " 'SK': 70647318525,\n",
       " 'KO': 48062309493,\n",
       " 'SS': 185301192904,\n",
       " 'CF': 0,\n",
       " 'HB': 68615471565,\n",
       " 'VC': 11995023290,\n",
       " 'CH': 135888566286,\n",
       " 'HF': 158149381947,\n",
       " 'FB': 106440474274}"
      ]
     },
     "execution_count": 6,
     "metadata": {},
     "output_type": "execute_result"
    }
   ],
   "source": [
    "for i in range(40):\n",
    "    temp = result.copy()\n",
    "    for key in temp.keys():\n",
    "         temp[key] = 0\n",
    "    for key in result.keys():\n",
    "        if result[key] > 0:\n",
    "            char = diction[key]\n",
    "            temp[key[0]+char] += result[key]\n",
    "            temp[char+key[1]] += result[key]\n",
    "    result= temp\n",
    "result"
   ]
  },
  {
   "cell_type": "code",
   "execution_count": 7,
   "metadata": {},
   "outputs": [
    {
     "data": {
      "text/plain": [
       "{'H': 3675613099692,\n",
       " 'V': 3568805909589,\n",
       " 'C': 503600977009,\n",
       " 'F': 1783747823517,\n",
       " 'N': 1848329094013,\n",
       " 'B': 1225684949647,\n",
       " 'S': 841038835108,\n",
       " 'P': 2733145685246,\n",
       " 'O': 3950990021539,\n",
       " 'K': 759764532385}"
      ]
     },
     "execution_count": 7,
     "metadata": {},
     "output_type": "execute_result"
    }
   ],
   "source": [
    "import math\n",
    "finish = {}\n",
    "for char in chars:\n",
    "    count = 0\n",
    "    for key in result.keys():\n",
    "        if key.count(char):\n",
    "            if key == char+char:\n",
    "                count+= 2*result[key]\n",
    "            else:\n",
    "                count += result[key]\n",
    "    finish[char] = math.ceil(count/2)\n",
    "finish"
   ]
  },
  {
   "cell_type": "code",
   "execution_count": 11,
   "metadata": {},
   "outputs": [
    {
     "data": {
      "text/plain": [
       "3447389044530"
      ]
     },
     "execution_count": 11,
     "metadata": {},
     "output_type": "execute_result"
    }
   ],
   "source": [
    "ma = 0\n",
    "mi= 10000000000000000000\n",
    "for key in finish.keys():\n",
    "    if finish[key] > ma:\n",
    "        ma = finish[key]\n",
    "    if finish[key] < mi:\n",
    "        mi = finish[key]\n",
    "ma-mi"
   ]
  },
  {
   "cell_type": "code",
   "execution_count": 9,
   "metadata": {},
   "outputs": [
    {
     "data": {
      "text/plain": [
       "3950990021539"
      ]
     },
     "execution_count": 9,
     "metadata": {},
     "output_type": "execute_result"
    }
   ],
   "source": [
    "ma"
   ]
  },
  {
   "cell_type": "code",
   "execution_count": 12,
   "metadata": {},
   "outputs": [
    {
     "data": {
      "text/plain": [
       "503600977009"
      ]
     },
     "execution_count": 12,
     "metadata": {},
     "output_type": "execute_result"
    }
   ],
   "source": [
    "mi"
   ]
  }
 ],
 "metadata": {
  "kernelspec": {
   "display_name": "Python 3",
   "language": "python",
   "name": "python3"
  },
  "language_info": {
   "codemirror_mode": {
    "name": "ipython",
    "version": 3
   },
   "file_extension": ".py",
   "mimetype": "text/x-python",
   "name": "python",
   "nbconvert_exporter": "python",
   "pygments_lexer": "ipython3",
   "version": "3.8.3"
  }
 },
 "nbformat": 4,
 "nbformat_minor": 4
}
